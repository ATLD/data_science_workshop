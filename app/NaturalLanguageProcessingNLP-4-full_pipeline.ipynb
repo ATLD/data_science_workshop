{
 "cells": [
  {
   "cell_type": "markdown",
   "metadata": {},
   "source": [
    "Also Based on tutorials   \n",
    "With Permission from Michale Harmon:\n",
    "http://michael-harmon.com/blog/NLP.html   \n",
    "https://github.com/mdh266/DocumentClassificationNLP/blob/master/NLP.ipynb   \n",
    "\n",
    "Classification of text documents using sparse features:   \n",
    "https://scikit-learn.org/stable/auto_examples/text/plot_document_classification_20newsgroups.html   \n",
    "\n",
    "https://scikit-learn.org/stable/tutorial/text_analytics/working_with_text_data.html   \n"
   ]
  },
  {
   "cell_type": "markdown",
   "metadata": {},
   "source": []
  }
 ],
 "metadata": {
  "kernelspec": {
   "display_name": "Python 3",
   "language": "python",
   "name": "python3"
  },
  "language_info": {
   "codemirror_mode": {
    "name": "ipython",
    "version": 3
   },
   "file_extension": ".py",
   "mimetype": "text/x-python",
   "name": "python",
   "nbconvert_exporter": "python",
   "pygments_lexer": "ipython3",
   "version": "3.7.2"
  }
 },
 "nbformat": 4,
 "nbformat_minor": 2
}
